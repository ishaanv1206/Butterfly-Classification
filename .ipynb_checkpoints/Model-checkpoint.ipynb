{
 "cells": [
  {
   "cell_type": "code",
   "execution_count": 1,
   "id": "d11ab5d7-d732-4ee1-9132-11b8a5727735",
   "metadata": {},
   "outputs": [
    {
     "name": "stdout",
     "output_type": "stream",
     "text": [
      "WARNING:tensorflow:From C:\\Users\\ishaa_04bpft8\\AppData\\Local\\Programs\\Python\\Python311\\Lib\\site-packages\\keras\\src\\losses.py:2976: The name tf.losses.sparse_softmax_cross_entropy is deprecated. Please use tf.compat.v1.losses.sparse_softmax_cross_entropy instead.\n",
      "\n"
     ]
    }
   ],
   "source": [
    "import tensorflow as tf\n",
    "from keras.preprocessing.image import ImageDataGenerator"
   ]
  },
  {
   "cell_type": "code",
   "execution_count": 2,
   "id": "afe94946-5c90-4182-a1bc-3aa7ab71cf8e",
   "metadata": {},
   "outputs": [
    {
     "name": "stdout",
     "output_type": "stream",
     "text": [
      "Found 12594 images belonging to 100 classes.\n"
     ]
    }
   ],
   "source": [
    "train_datagen = ImageDataGenerator(rescale = 1./255,\n",
    "                                   shear_range = 0.2,\n",
    "                                   zoom_range = 0.2,\n",
    "                                   horizontal_flip = True)\n",
    "training_set = train_datagen.flow_from_directory('dataset/train',\n",
    "                                                 target_size = (64, 64),\n",
    "                                                 batch_size = 30,\n",
    "                                                 class_mode = 'categorical')"
   ]
  },
  {
   "cell_type": "code",
   "execution_count": 3,
   "id": "9f617f87-6278-4aa1-9a12-f2bcfa2ae294",
   "metadata": {},
   "outputs": [
    {
     "name": "stdout",
     "output_type": "stream",
     "text": [
      "Found 500 images belonging to 100 classes.\n"
     ]
    }
   ],
   "source": [
    "test_datagen = ImageDataGenerator(rescale = 1./255)\n",
    "test_set = test_datagen.flow_from_directory('dataset/test',\n",
    "                                            target_size = (64, 64),\n",
    "                                            batch_size = 30,\n",
    "                                            class_mode = 'categorical')"
   ]
  },
  {
   "cell_type": "code",
   "execution_count": 4,
   "id": "e3963116-326f-47f7-a56e-f6ebd29aaa01",
   "metadata": {},
   "outputs": [
    {
     "name": "stdout",
     "output_type": "stream",
     "text": [
      "WARNING:tensorflow:From C:\\Users\\ishaa_04bpft8\\AppData\\Local\\Programs\\Python\\Python311\\Lib\\site-packages\\keras\\src\\backend.py:873: The name tf.get_default_graph is deprecated. Please use tf.compat.v1.get_default_graph instead.\n",
      "\n"
     ]
    }
   ],
   "source": [
    "cnn = tf.keras.models.Sequential()"
   ]
  },
  {
   "cell_type": "code",
   "execution_count": 5,
   "id": "9125bed2-d156-4ffc-8c80-e6910c1b1dad",
   "metadata": {},
   "outputs": [],
   "source": [
    "cnn.add(tf.keras.layers.Conv2D(filters=32, kernel_size=3, activation='relu', input_shape=[64, 64, 3]))"
   ]
  },
  {
   "cell_type": "code",
   "execution_count": 6,
   "id": "3cfe63f6-ffc4-4c57-9871-c8443357b6fd",
   "metadata": {},
   "outputs": [
    {
     "name": "stdout",
     "output_type": "stream",
     "text": [
      "WARNING:tensorflow:From C:\\Users\\ishaa_04bpft8\\AppData\\Local\\Programs\\Python\\Python311\\Lib\\site-packages\\keras\\src\\layers\\pooling\\max_pooling2d.py:161: The name tf.nn.max_pool is deprecated. Please use tf.nn.max_pool2d instead.\n",
      "\n"
     ]
    }
   ],
   "source": [
    "cnn.add(tf.keras.layers.MaxPool2D(pool_size=2, strides=2))"
   ]
  },
  {
   "cell_type": "code",
   "execution_count": 7,
   "id": "cb9eb07d-f582-45a6-be0c-6022d43e7ec2",
   "metadata": {},
   "outputs": [],
   "source": [
    "cnn.add(tf.keras.layers.Conv2D(filters=32, kernel_size=3, activation='relu'))\n",
    "cnn.add(tf.keras.layers.MaxPool2D(pool_size=2, strides=2))"
   ]
  },
  {
   "cell_type": "code",
   "execution_count": 8,
   "id": "66dbbb9e-5c48-4f4e-b124-9f3888d0a278",
   "metadata": {},
   "outputs": [],
   "source": [
    "cnn.add(tf.keras.layers.Flatten())"
   ]
  },
  {
   "cell_type": "code",
   "execution_count": 9,
   "id": "a737e4a4-c3dd-4c7a-b243-c3615fcdeaf6",
   "metadata": {},
   "outputs": [],
   "source": [
    "cnn.add(tf.keras.layers.Dense(units=128, activation='relu'))"
   ]
  },
  {
   "cell_type": "code",
   "execution_count": 10,
   "id": "971b29f1-1a70-401b-b9aa-14039bc07593",
   "metadata": {},
   "outputs": [],
   "source": [
    "cnn.add(tf.keras.layers.Dense(units=100, activation='softmax'))"
   ]
  },
  {
   "cell_type": "code",
   "execution_count": 11,
   "id": "d4e447da-601e-45b7-b82e-07f5141434d8",
   "metadata": {},
   "outputs": [
    {
     "name": "stdout",
     "output_type": "stream",
     "text": [
      "WARNING:tensorflow:From C:\\Users\\ishaa_04bpft8\\AppData\\Local\\Programs\\Python\\Python311\\Lib\\site-packages\\keras\\src\\optimizers\\__init__.py:309: The name tf.train.Optimizer is deprecated. Please use tf.compat.v1.train.Optimizer instead.\n",
      "\n"
     ]
    }
   ],
   "source": [
    "cnn.compile(optimizer = 'adam', loss = 'categorical_crossentropy', metrics = ['accuracy'])"
   ]
  },
  {
   "cell_type": "code",
   "execution_count": 18,
   "id": "90e51bf0-a667-4598-be0b-0e3577d3851b",
   "metadata": {},
   "outputs": [
    {
     "name": "stdout",
     "output_type": "stream",
     "text": [
      "Epoch 1/36\n",
      "420/420 [==============================] - 61s 145ms/step - loss: 0.4682 - accuracy: 0.8543 - val_loss: 1.5654 - val_accuracy: 0.6860\n",
      "Epoch 2/36\n",
      "420/420 [==============================] - 64s 151ms/step - loss: 0.4381 - accuracy: 0.8680 - val_loss: 1.2271 - val_accuracy: 0.7480\n",
      "Epoch 3/36\n",
      "420/420 [==============================] - 53s 127ms/step - loss: 0.4189 - accuracy: 0.8704 - val_loss: 1.2587 - val_accuracy: 0.7580\n",
      "Epoch 4/36\n",
      "420/420 [==============================] - 88s 210ms/step - loss: 0.4094 - accuracy: 0.8722 - val_loss: 1.1516 - val_accuracy: 0.7680\n",
      "Epoch 5/36\n",
      "420/420 [==============================] - 75s 178ms/step - loss: 0.3842 - accuracy: 0.8828 - val_loss: 1.3184 - val_accuracy: 0.7320\n",
      "Epoch 6/36\n",
      "420/420 [==============================] - 64s 152ms/step - loss: 0.3840 - accuracy: 0.8814 - val_loss: 1.3195 - val_accuracy: 0.7200\n",
      "Epoch 7/36\n",
      "420/420 [==============================] - 62s 147ms/step - loss: 0.3482 - accuracy: 0.8888 - val_loss: 1.2461 - val_accuracy: 0.7540\n",
      "Epoch 8/36\n",
      "420/420 [==============================] - 58s 137ms/step - loss: 0.3522 - accuracy: 0.8905 - val_loss: 1.4553 - val_accuracy: 0.7220\n",
      "Epoch 9/36\n",
      "420/420 [==============================] - 53s 126ms/step - loss: 0.3419 - accuracy: 0.8912 - val_loss: 1.2624 - val_accuracy: 0.7680\n",
      "Epoch 10/36\n",
      "420/420 [==============================] - 59s 140ms/step - loss: 0.3300 - accuracy: 0.8996 - val_loss: 1.5234 - val_accuracy: 0.7380\n",
      "Epoch 11/36\n",
      "420/420 [==============================] - 56s 133ms/step - loss: 0.3175 - accuracy: 0.9004 - val_loss: 1.3394 - val_accuracy: 0.7560\n",
      "Epoch 12/36\n",
      "420/420 [==============================] - 75s 179ms/step - loss: 0.3038 - accuracy: 0.9058 - val_loss: 1.5149 - val_accuracy: 0.7180\n",
      "Epoch 13/36\n",
      "420/420 [==============================] - 82s 194ms/step - loss: 0.2965 - accuracy: 0.9065 - val_loss: 1.2296 - val_accuracy: 0.7600\n",
      "Epoch 14/36\n",
      "420/420 [==============================] - 92s 220ms/step - loss: 0.2860 - accuracy: 0.9103 - val_loss: 2.1520 - val_accuracy: 0.6600\n",
      "Epoch 15/36\n",
      "420/420 [==============================] - 112s 267ms/step - loss: 0.2805 - accuracy: 0.9145 - val_loss: 1.5516 - val_accuracy: 0.7180\n",
      "Epoch 16/36\n",
      "420/420 [==============================] - 101s 240ms/step - loss: 0.2833 - accuracy: 0.9096 - val_loss: 1.4373 - val_accuracy: 0.7500\n",
      "Epoch 17/36\n",
      "420/420 [==============================] - 87s 207ms/step - loss: 0.2641 - accuracy: 0.9155 - val_loss: 1.4116 - val_accuracy: 0.7720\n",
      "Epoch 18/36\n",
      "420/420 [==============================] - 85s 202ms/step - loss: 0.2658 - accuracy: 0.9150 - val_loss: 1.2346 - val_accuracy: 0.7600\n",
      "Epoch 19/36\n",
      "420/420 [==============================] - 98s 233ms/step - loss: 0.2399 - accuracy: 0.9236 - val_loss: 1.6854 - val_accuracy: 0.7240\n",
      "Epoch 20/36\n",
      "420/420 [==============================] - 96s 229ms/step - loss: 0.2321 - accuracy: 0.9254 - val_loss: 1.6813 - val_accuracy: 0.7380\n",
      "Epoch 21/36\n",
      "420/420 [==============================] - 97s 230ms/step - loss: 0.2419 - accuracy: 0.9236 - val_loss: 1.7319 - val_accuracy: 0.7380\n",
      "Epoch 22/36\n",
      "420/420 [==============================] - 102s 242ms/step - loss: 0.2211 - accuracy: 0.9279 - val_loss: 1.4442 - val_accuracy: 0.7620\n",
      "Epoch 23/36\n",
      "420/420 [==============================] - 76s 180ms/step - loss: 0.2333 - accuracy: 0.9258 - val_loss: 1.4518 - val_accuracy: 0.7680\n",
      "Epoch 24/36\n",
      "420/420 [==============================] - 83s 196ms/step - loss: 0.2260 - accuracy: 0.9283 - val_loss: 1.7522 - val_accuracy: 0.7300\n",
      "Epoch 25/36\n",
      "420/420 [==============================] - 82s 195ms/step - loss: 0.2134 - accuracy: 0.9307 - val_loss: 1.5023 - val_accuracy: 0.7560\n",
      "Epoch 26/36\n",
      "420/420 [==============================] - 74s 177ms/step - loss: 0.2175 - accuracy: 0.9323 - val_loss: 1.4879 - val_accuracy: 0.7520\n",
      "Epoch 27/36\n",
      "420/420 [==============================] - 80s 192ms/step - loss: 0.2285 - accuracy: 0.9252 - val_loss: 1.7581 - val_accuracy: 0.7180\n",
      "Epoch 28/36\n",
      "420/420 [==============================] - 88s 208ms/step - loss: 0.2134 - accuracy: 0.9316 - val_loss: 1.3153 - val_accuracy: 0.7920\n",
      "Epoch 29/36\n",
      "420/420 [==============================] - 75s 178ms/step - loss: 0.2107 - accuracy: 0.9339 - val_loss: 1.5489 - val_accuracy: 0.7660\n",
      "Epoch 30/36\n",
      "420/420 [==============================] - 74s 177ms/step - loss: 0.1955 - accuracy: 0.9375 - val_loss: 1.3906 - val_accuracy: 0.7820\n",
      "Epoch 31/36\n",
      "420/420 [==============================] - 82s 195ms/step - loss: 0.2086 - accuracy: 0.9312 - val_loss: 1.7471 - val_accuracy: 0.7440\n",
      "Epoch 32/36\n",
      "420/420 [==============================] - 75s 178ms/step - loss: 0.1776 - accuracy: 0.9427 - val_loss: 1.5747 - val_accuracy: 0.7460\n",
      "Epoch 33/36\n",
      "420/420 [==============================] - 73s 174ms/step - loss: 0.1900 - accuracy: 0.9423 - val_loss: 1.5139 - val_accuracy: 0.7680\n",
      "Epoch 34/36\n",
      "420/420 [==============================] - 82s 196ms/step - loss: 0.1920 - accuracy: 0.9400 - val_loss: 1.8302 - val_accuracy: 0.7260\n",
      "Epoch 35/36\n",
      "420/420 [==============================] - 81s 193ms/step - loss: 0.1900 - accuracy: 0.9385 - val_loss: 1.7650 - val_accuracy: 0.7480\n",
      "Epoch 36/36\n",
      "420/420 [==============================] - 75s 178ms/step - loss: 0.1744 - accuracy: 0.9436 - val_loss: 1.4090 - val_accuracy: 0.7720\n"
     ]
    },
    {
     "data": {
      "text/plain": [
       "<keras.src.callbacks.History at 0x162461c2290>"
      ]
     },
     "execution_count": 18,
     "metadata": {},
     "output_type": "execute_result"
    }
   ],
   "source": [
    "cnn.fit(x = training_set, validation_data = test_set, epochs = 36)"
   ]
  },
  {
   "cell_type": "code",
   "execution_count": 50,
   "id": "3c14201e-70a1-4740-8783-cbb97a300db6",
   "metadata": {},
   "outputs": [
    {
     "name": "stdout",
     "output_type": "stream",
     "text": [
      "1/1 [==============================] - 0s 22ms/step\n"
     ]
    }
   ],
   "source": [
    "import numpy as np\n",
    "from keras.preprocessing import image\n",
    "class_indices = {'ADONIS': 0, 'AFRICAN GIANT SWALLOWTAIL': 1, 'AMERICAN SNOOT': 2, 'AN 88': 3, 'APPOLLO': 4, 'ARCIGERA FLOWER MOTH': 5, 'ATALA': 6, 'ATLAS MOTH': 7, 'BANDED ORANGE HELICONIAN': 8, 'BANDED PEACOCK': 9, 'BANDED TIGER MOTH': 10, 'BECKERS WHITE': 11, 'BIRD CHERRY ERMINE MOTH': 12, 'BLACK HAIRSTREAK': 13, 'BLUE MORPHO': 14, 'BLUE SPOTTED CROW': 15, 'BROOKES BIRDWING': 16, 'BROWN ARGUS': 17, 'BROWN SIPROETA': 18, 'CABBAGE WHITE': 19, 'CAIRNS BIRDWING': 20, 'CHALK HILL BLUE': 21, 'CHECQUERED SKIPPER': 22, 'CHESTNUT': 23, 'CINNABAR MOTH': 24, 'CLEARWING MOTH': 25, 'CLEOPATRA': 26, 'CLODIUS PARNASSIAN': 27, 'CLOUDED SULPHUR': 28, 'COMET MOTH': 29, 'COMMON BANDED AWL': 30, 'COMMON WOOD-NYMPH': 31, 'COPPER TAIL': 32, 'CRECENT': 33, 'CRIMSON PATCH': 34, 'DANAID EGGFLY': 35, 'EASTERN COMA': 36, 'EASTERN DAPPLE WHITE': 37, 'EASTERN PINE ELFIN': 38, 'ELBOWED PIERROT': 39, 'EMPEROR GUM MOTH': 40, 'GARDEN TIGER MOTH': 41, 'GIANT LEOPARD MOTH': 42, 'GLITTERING SAPPHIRE': 43, 'GOLD BANDED': 44, 'GREAT EGGFLY': 45, 'GREAT JAY': 46, 'GREEN CELLED CATTLEHEART': 47, 'GREEN HAIRSTREAK': 48, 'GREY HAIRSTREAK': 49, 'HERCULES MOTH': 50, 'HUMMING BIRD HAWK MOTH': 51, 'INDRA SWALLOW': 52, 'IO MOTH': 53, 'Iphiclus sister': 54, 'JULIA': 55, 'LARGE MARBLE': 56, 'LUNA MOTH': 57, 'MADAGASCAN SUNSET MOTH': 58, 'MALACHITE': 59, 'MANGROVE SKIPPER': 60, 'MESTRA': 61, 'METALMARK': 62, 'MILBERTS TORTOISESHELL': 63, 'MONARCH': 64, 'MOURNING CLOAK': 65, 'OLEANDER HAWK MOTH': 66, 'ORANGE OAKLEAF': 67, 'ORANGE TIP': 68, 'ORCHARD SWALLOW': 69, 'PAINTED LADY': 70, 'PAPER KITE': 71, 'PEACOCK': 72, 'PINE WHITE': 73, 'PIPEVINE SWALLOW': 74, 'POLYPHEMUS MOTH': 75, 'POPINJAY': 76, 'PURPLE HAIRSTREAK': 77, 'PURPLISH COPPER': 78, 'QUESTION MARK': 79, 'RED ADMIRAL': 80, 'RED CRACKER': 81, 'RED POSTMAN': 82, 'RED SPOTTED PURPLE': 83, 'ROSY MAPLE MOTH': 84, 'SCARCE SWALLOW': 85, 'SILVER SPOT SKIPPER': 86, 'SIXSPOT BURNET MOTH': 87, 'SLEEPY ORANGE': 88, 'SOOTYWING': 89, 'SOUTHERN DOGFACE': 90, 'STRAITED QUEEN': 91, 'TROPICAL LEAFWING': 92, 'TWO BARRED FLASHER': 93, 'ULYSES': 94, 'VICEROY': 95, 'WHITE LINED SPHINX MOTH': 96, 'WOOD SATYR': 97, 'YELLOW SWALLOW TAIL': 98, 'ZEBRA LONG WING': 99}\n",
    "test_image = image.load_img('dataset/single_prediction/test6.jpg', target_size=(64, 64))\n",
    "test_image = image.img_to_array(test_image)\n",
    "test_image = np.expand_dims(test_image, axis=0)\n",
    "prediction = cnn.predict(test_image)\n",
    "predicted_class_index = np.argmax(prediction)\n",
    "predicted_class_name = [key for key, value in class_indices.items() if value == predicted_class_index][0]\n",
    "\n"
   ]
  },
  {
   "cell_type": "code",
   "execution_count": 51,
   "id": "5887ac57-f5c1-4330-8333-38cfd9159e77",
   "metadata": {},
   "outputs": [
    {
     "name": "stdout",
     "output_type": "stream",
     "text": [
      "TROPICAL LEAFWING\n"
     ]
    }
   ],
   "source": [
    "print(predicted_class_name)"
   ]
  },
  {
   "cell_type": "code",
   "execution_count": null,
   "id": "302697f5-97aa-40ab-ac69-392aaeff2a6e",
   "metadata": {},
   "outputs": [],
   "source": []
  }
 ],
 "metadata": {
  "kernelspec": {
   "display_name": "Python 3 (ipykernel)",
   "language": "python",
   "name": "python3"
  },
  "language_info": {
   "codemirror_mode": {
    "name": "ipython",
    "version": 3
   },
   "file_extension": ".py",
   "mimetype": "text/x-python",
   "name": "python",
   "nbconvert_exporter": "python",
   "pygments_lexer": "ipython3",
   "version": "3.11.4"
  }
 },
 "nbformat": 4,
 "nbformat_minor": 5
}
